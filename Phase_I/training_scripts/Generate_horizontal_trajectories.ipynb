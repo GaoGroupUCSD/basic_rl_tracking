{
 "cells": [
  {
   "cell_type": "code",
   "execution_count": 1,
   "metadata": {},
   "outputs": [],
   "source": [
    "import cv2\n",
    "import numpy as np\n",
    "import matplotlib.pyplot as plt\n",
    "import random\n",
    "from PIL import Image\n",
    "import os"
   ]
  },
  {
   "cell_type": "code",
   "execution_count": 2,
   "metadata": {},
   "outputs": [],
   "source": [
    "image_height =80\n",
    "image_width = 240\n",
    "target_height = 5\n",
    "target_width = 5\n",
    "speed_x = 0\n",
    "speed_y = 2"
   ]
  },
  {
   "cell_type": "code",
   "execution_count": 3,
   "metadata": {},
   "outputs": [],
   "source": [
    "os.chdir('horizontal_trajectories/')\n",
    "\n",
    "write_file = open('annotations.csv', 'w')\n",
    "write_file.write('trajectory_num,start_x,start_y,end_x,end_y\\n')"
   ]
  },
  {
   "cell_type": "code",
   "execution_count": 4,
   "metadata": {},
   "outputs": [],
   "source": [
    "for i in xrange(76):\n",
    "    x = i\n",
    "    y = image_width / 3\n",
    "    img_count = 1\n",
    "    start_x = x\n",
    "    start_y = y\n",
    "    while x >= 0 and y >= 0 and (x + target_width) < image_height and (y + 5) < image_width * 2.0 / 3:\n",
    "        generated_image = np.zeros((image_height, image_width, 3), np.uint8)\n",
    "        generated_image[x:x+target_width, y:y+target_height, :] = 255\n",
    "        generated_image = Image.fromarray(generated_image)\n",
    "        generated_image.save(str(i+1) + '_' + str(img_count) + '.png')\n",
    "        img_count += 1\n",
    "        x += speed_x\n",
    "        y += speed_y\n",
    "    write_file.write(str(i+1) + ',' + str(start_y) + ',' + str(start_x) + ',' + str(y-speed_y) + ',' + str(x-speed_x) + '\\n')\n",
    "\n",
    "write_file.close()"
   ]
  },
  {
   "cell_type": "code",
   "execution_count": null,
   "metadata": {},
   "outputs": [],
   "source": []
  }
 ],
 "metadata": {
  "kernelspec": {
   "display_name": "Python 2",
   "language": "python",
   "name": "python2"
  },
  "language_info": {
   "codemirror_mode": {
    "name": "ipython",
    "version": 2
   },
   "file_extension": ".py",
   "mimetype": "text/x-python",
   "name": "python",
   "nbconvert_exporter": "python",
   "pygments_lexer": "ipython2",
   "version": "2.7.14"
  }
 },
 "nbformat": 4,
 "nbformat_minor": 2
}
