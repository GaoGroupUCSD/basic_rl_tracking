{
 "cells": [
  {
   "cell_type": "code",
   "execution_count": 1,
   "metadata": {},
   "outputs": [],
   "source": [
    "import cv2\n",
    "import numpy as np\n",
    "import matplotlib.pyplot as plt\n",
    "import random\n",
    "from PIL import Image\n",
    "import os"
   ]
  },
  {
   "cell_type": "code",
   "execution_count": 2,
   "metadata": {},
   "outputs": [],
   "source": [
    "image_height = 80\n",
    "image_width = 80\n",
    "target_height = 5\n",
    "target_width = 5\n",
    "speed_max = 5\n",
    "speed_min = 5"
   ]
  },
  {
   "cell_type": "code",
   "execution_count": 3,
   "metadata": {},
   "outputs": [],
   "source": [
    "os.chdir('trajectories/')\n",
    "\n",
    "write_file = open('annotations.csv', 'w')\n",
    "write_file.write('trajectory_num,start_x,start_y,end_x,end_y\\n')"
   ]
  },
  {
   "cell_type": "code",
   "execution_count": 4,
   "metadata": {},
   "outputs": [],
   "source": [
    "for i in xrange(50):\n",
    "    step_right = 0\n",
    "    step_down = 0\n",
    "    while step_right == 0 and step_down == 0:\n",
    "        step_right = random.randint(-1, 1)\n",
    "        step_down = random.randint(-1, 1)\n",
    "    if step_right == 1:\n",
    "        start_x = random.randint(0, image_width/2)\n",
    "    elif step_right == -1:\n",
    "        start_x = random.randint(image_width/2, image_width-target_width)\n",
    "    else:\n",
    "        start_x = random.randint(0, image_width-target_width)\n",
    "    if step_down == 1:\n",
    "        start_y = random.randint(0, image_height/2)\n",
    "    elif step_down == -1:\n",
    "        start_y = random.randint(image_height/2, image_height-target_height)\n",
    "    else:\n",
    "        start_y = random.randint(0, image_height-target_height)\n",
    "    speed_x = random.randint(speed_min, speed_max) * step_right\n",
    "    speed_y = random.randint(speed_min, speed_max) * step_down\n",
    "    x = start_x\n",
    "    y = start_y\n",
    "    img_count = 1\n",
    "    while x >= 0 and y >= 0 and (x + target_width) < image_width and (y + 5) < image_height:\n",
    "        generated_image = np.zeros((image_height, image_width, 3), np.uint8)\n",
    "        generated_image[x:x+target_width, y:y+target_height, :] = 255\n",
    "        generated_image = Image.fromarray(generated_image)\n",
    "        generated_image.save(str(i+1) + '_' + str(img_count) + '.png')\n",
    "        img_count += 1\n",
    "        x += speed_x\n",
    "        y += speed_y\n",
    "    write_file.write(str(i+1) + ',' + str(start_y) + ',' + str(start_x) + ',' + str(y-speed_y) + ',' + str(x-speed_x) + '\\n')\n",
    "\n",
    "write_file.close()\n",
    "os.chdir('..')"
   ]
  },
  {
   "cell_type": "code",
   "execution_count": null,
   "metadata": {},
   "outputs": [],
   "source": []
  }
 ],
 "metadata": {
  "kernelspec": {
   "display_name": "Python 2",
   "language": "python",
   "name": "python2"
  },
  "language_info": {
   "codemirror_mode": {
    "name": "ipython",
    "version": 2
   },
   "file_extension": ".py",
   "mimetype": "text/x-python",
   "name": "python",
   "nbconvert_exporter": "python",
   "pygments_lexer": "ipython2",
   "version": "2.7.14"
  }
 },
 "nbformat": 4,
 "nbformat_minor": 2
}
