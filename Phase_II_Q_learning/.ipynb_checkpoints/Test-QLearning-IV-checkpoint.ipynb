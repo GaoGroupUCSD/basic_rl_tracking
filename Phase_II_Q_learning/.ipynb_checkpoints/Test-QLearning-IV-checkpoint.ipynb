{
 "cells": [
  {
   "cell_type": "markdown",
   "metadata": {},
   "source": [
    "## Testing saved weights"
   ]
  },
  {
   "cell_type": "code",
   "execution_count": 1,
   "metadata": {},
   "outputs": [],
   "source": [
    "import numpy as np\n",
    "import os"
   ]
  },
  {
   "cell_type": "code",
   "execution_count": 2,
   "metadata": {},
   "outputs": [],
   "source": [
    "num_positions = 10\n",
    "num_actions = 3\n",
    "gamma = 0.9\n",
    "alpha = 0.01\n",
    "epsilon = 0.1"
   ]
  },
  {
   "cell_type": "code",
   "execution_count": 3,
   "metadata": {},
   "outputs": [],
   "source": [
    "weights = {}\n",
    "\n",
    "for f in os.listdir('QL_IV_checkpoints/'):\n",
    "    weights[f.split('.')[0]] = np.load('QL_IV_checkpoints/' + f)"
   ]
  },
  {
   "cell_type": "code",
   "execution_count": 4,
   "metadata": {},
   "outputs": [],
   "source": [
    "def feedforward(s, W):\n",
    "    return 1.0 / (1.0 + np.exp(-1.0 * np.dot(s, W)))\n",
    "\n",
    "def epsilon_greedy(actions):\n",
    "    if np.random.rand() <= epsilon:\n",
    "        return np.argmax(actions)\n",
    "    return np.random.randint(0, len(actions))"
   ]
  },
  {
   "cell_type": "code",
   "execution_count": 5,
   "metadata": {},
   "outputs": [
    {
     "name": "stderr",
     "output_type": "stream",
     "text": [
      "/usr/local/lib/python2.7/site-packages/ipykernel_launcher.py:2: RuntimeWarning: overflow encountered in exp\n",
      "  \n"
     ]
    },
    {
     "name": "stdout",
     "output_type": "stream",
     "text": [
      "qlIV_18000 : 0.1026\n",
      "qlIV_8000 : 0.095\n",
      "qlIV_15000 : 0.0942\n",
      "qlIV_7000 : 0.0977\n",
      "qlIV_9000 : 0.0977\n",
      "qlIV_3000 : 0.0924\n",
      "qlIV_5000 : 0.0896\n",
      "qlIV_14000 : 0.0927\n",
      "qlIV_2000 : 0.0922\n",
      "qlIV_6000 : 0.0947\n",
      "qlIV_19000 : 0.0931\n",
      "qlIV_17000 : 0.0905\n",
      "qlIV_4000 : 0.0963\n",
      "qlIV_12000 : 0.0932\n",
      "qlIV_10000 : 0.0927\n",
      "qlIV_16000 : 0.0963\n",
      "qlIV_11000 : 0.0952\n",
      "qlIV_13000 : 0.0922\n",
      "qlIV_1000 : 0.0883\n"
     ]
    }
   ],
   "source": [
    "correct = {}\n",
    "total = 0\n",
    "\n",
    "for f in weights:\n",
    "    correct[f] = 0.0\n",
    "\n",
    "for i in xrange(10000):\n",
    "    obj_start = np.random.randint(0, num_positions)\n",
    "    obj_start = [0 if x != obj_start else 1 for x in xrange(num_positions)]\n",
    "    obj = obj_start\n",
    "\n",
    "    trajectory = []\n",
    "\n",
    "    # Generate a single trajectory\n",
    "    for j in xrange(10):\n",
    "        a = np.random.randint(0, num_actions)\n",
    "        obj_coord = obj.index(1)\n",
    "        while (obj_coord == 0 and a == 0) or (obj_coord == num_positions - 1 and a == 2):\n",
    "            a = np.random.randint(0, num_actions)\n",
    "        obj_coord = obj_coord - 1 if a == 0 else obj_coord if a == 1 else obj_coord + 1\n",
    "        obj = [0 if x != obj_coord else 1 for x in xrange(num_positions)]\n",
    "        trajectory.append(obj)\n",
    "\n",
    "    for f in weights:\n",
    "        W = weights[f]\n",
    "        prev_box = obj_start\n",
    "        j = 0\n",
    "\n",
    "        # Feedforward for all steps in the trajectory\n",
    "        while j < len(trajectory):\n",
    "            current_state = trajectory[j] + prev_box\n",
    "\n",
    "            # Evaluate the Q-network to get the Q-values, and on the basis of that, select an action, and\n",
    "            # consequently calculate the current box coordinates from the action on the previous box coordinates\n",
    "            current_qvalues = feedforward(current_state, W)\n",
    "            current_action = epsilon_greedy(current_qvalues)\n",
    "            prev_box_coord = prev_box.index(1)\n",
    "            current_box_coord = prev_box_coord - 1 if current_action == 0 else prev_box_coord if current_action == 1 else prev_box_coord + 1\n",
    "            current_box = [0 if x != current_box_coord else 1 for x in xrange(num_positions)]\n",
    "\n",
    "            # If the current box coordinates are invalid (out of bounds), we set a penalty for them and backpropagate.\n",
    "            # Otherwise, we add the new state and action to their respective arrays.\n",
    "            if current_box_coord < 0 or current_box_coord >= num_positions:\n",
    "                break\n",
    "            else:\n",
    "                prev_box = current_box\n",
    "                j += 1\n",
    "\n",
    "        last_box = current_box\n",
    "\n",
    "        if last_box == trajectory[-1]:    \n",
    "            correct[f] += 1\n",
    "\n",
    "    total += 1\n",
    "\n",
    "for f in weights:\n",
    "    print f + ' : ' + str(correct[f] * 1.0 / total)"
   ]
  },
  {
   "cell_type": "code",
   "execution_count": null,
   "metadata": {},
   "outputs": [],
   "source": []
  }
 ],
 "metadata": {
  "kernelspec": {
   "display_name": "Python 2",
   "language": "python",
   "name": "python2"
  },
  "language_info": {
   "codemirror_mode": {
    "name": "ipython",
    "version": 2
   },
   "file_extension": ".py",
   "mimetype": "text/x-python",
   "name": "python",
   "nbconvert_exporter": "python",
   "pygments_lexer": "ipython2",
   "version": "2.7.14"
  }
 },
 "nbformat": 4,
 "nbformat_minor": 2
}
