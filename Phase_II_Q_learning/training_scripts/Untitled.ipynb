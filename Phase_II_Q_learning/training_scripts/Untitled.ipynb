{
 "cells": [
  {
   "cell_type": "code",
   "execution_count": 1,
   "metadata": {},
   "outputs": [
    {
     "name": "stderr",
     "output_type": "stream",
     "text": [
      "/usr/local/lib/python2.7/site-packages/h5py/__init__.py:36: FutureWarning: Conversion of the second argument of issubdtype from `float` to `np.floating` is deprecated. In future, it will be treated as `np.float64 == np.dtype(float).type`.\n",
      "  from ._conv import register_converters as _register_converters\n"
     ]
    }
   ],
   "source": [
    "import tensorflow as tf"
   ]
  },
  {
   "cell_type": "code",
   "execution_count": 2,
   "metadata": {},
   "outputs": [],
   "source": [
    "tf.reset_default_graph()\n",
    "\n",
    "actual_return = tf.Variable([[0.0, 0.0, 0.0]], name='actual_return', dtype=tf.float32, validate_shape=False)\n"
   ]
  },
  {
   "cell_type": "code",
   "execution_count": 3,
   "metadata": {},
   "outputs": [],
   "source": [
    "saver = tf.train.Saver()"
   ]
  },
  {
   "cell_type": "code",
   "execution_count": 6,
   "metadata": {},
   "outputs": [
    {
     "name": "stdout",
     "output_type": "stream",
     "text": [
      "INFO:tensorflow:Restoring parameters from ./qlV.ckpt-200\n",
      "Model restored.\n",
      "AR : [[ 0.0000000e+00  5.6463897e-02 -2.7765508e-03]\n",
      " [ 6.3789451e-01  0.0000000e+00  5.5113557e-04]\n",
      " [ 7.3489988e-01  3.7517268e-05  5.5378873e-04]\n",
      " [ 0.0000000e+00  5.4136995e-02  5.5027689e-04]\n",
      " [ 0.0000000e+00  5.8910441e-02  5.6509790e-04]\n",
      " [ 0.0000000e+00  3.9299826e-05  9.2748123e-01]\n",
      " [ 0.0000000e+00  6.1947662e-02  5.4724555e-04]\n",
      " [ 4.9026014e-04  5.6238383e-02  5.4724555e-04]\n",
      " [ 7.5641739e-01  0.0000000e+00  5.6064816e-04]\n",
      " [ 0.0000000e+00  3.7667713e-05  9.2189980e-01]]\n"
     ]
    }
   ],
   "source": [
    "with tf.Session() as sess:\n",
    "    # Restore variables from disk.\n",
    "    saver.restore(sess, \"./qlV.ckpt-200\")\n",
    "    print(\"Model restored.\")\n",
    "    # Check the values of the variables\n",
    "    print(\"AR : %s\" % actual_return.eval())\n"
   ]
  },
  {
   "cell_type": "code",
   "execution_count": null,
   "metadata": {},
   "outputs": [],
   "source": []
  }
 ],
 "metadata": {
  "kernelspec": {
   "display_name": "Python 2",
   "language": "python",
   "name": "python2"
  },
  "language_info": {
   "codemirror_mode": {
    "name": "ipython",
    "version": 2
   },
   "file_extension": ".py",
   "mimetype": "text/x-python",
   "name": "python",
   "nbconvert_exporter": "python",
   "pygments_lexer": "ipython2",
   "version": "2.7.14"
  }
 },
 "nbformat": 4,
 "nbformat_minor": 2
}
