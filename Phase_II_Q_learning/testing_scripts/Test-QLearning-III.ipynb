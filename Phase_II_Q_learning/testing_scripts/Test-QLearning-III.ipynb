{
 "cells": [
  {
   "cell_type": "markdown",
   "metadata": {},
   "source": [
    "## Testing saved weights"
   ]
  },
  {
   "cell_type": "code",
   "execution_count": 1,
   "metadata": {},
   "outputs": [],
   "source": [
    "import numpy as np\n",
    "import os"
   ]
  },
  {
   "cell_type": "code",
   "execution_count": 2,
   "metadata": {},
   "outputs": [],
   "source": [
    "num_positions = 10\n",
    "num_actions = 3\n",
    "gamma = 0.9\n",
    "alpha = 0.01\n",
    "epsilon = 0.1"
   ]
  },
  {
   "cell_type": "code",
   "execution_count": 4,
   "metadata": {},
   "outputs": [],
   "source": [
    "weights = {}\n",
    "\n",
    "for f in os.listdir('../QL_III_checkpoints/'):\n",
    "    weights[f.split('.')[0]] = np.load('../QL_III_checkpoints/' + f)"
   ]
  },
  {
   "cell_type": "code",
   "execution_count": 5,
   "metadata": {},
   "outputs": [],
   "source": [
    "def feedforward(s, W):\n",
    "    return 1.0 / (1.0 + np.exp(-1.0 * np.dot(s, W)))\n",
    "\n",
    "def epsilon_greedy(actions):\n",
    "    if np.random.rand() <= epsilon:\n",
    "        return np.argmax(actions)\n",
    "    return np.random.randint(0, len(actions))\n",
    "\n",
    "def backpropagate(gradients):\n",
    "    global W\n",
    "    W = W - alpha * gradients"
   ]
  },
  {
   "cell_type": "code",
   "execution_count": 6,
   "metadata": {},
   "outputs": [
    {
     "name": "stderr",
     "output_type": "stream",
     "text": [
      "/usr/local/lib/python2.7/site-packages/ipykernel_launcher.py:2: RuntimeWarning: overflow encountered in exp\n",
      "  \n"
     ]
    },
    {
     "name": "stdout",
     "output_type": "stream",
     "text": [
      "5000 : 0.0981\n",
      "6000 : 0.0958\n",
      "4000 : 0.0955\n",
      "2000 : 0.0976\n",
      "3000 : 0.0953\n",
      "7000 : 0.0967\n",
      "8000 : 0.1022\n",
      "1000 : 0.0984\n"
     ]
    }
   ],
   "source": [
    "correct = {}\n",
    "total = 0\n",
    "\n",
    "for f in weights:\n",
    "    correct[f] = 0.0\n",
    "\n",
    "for i in xrange(10000):\n",
    "    obj_start = np.random.randint(0, num_positions)\n",
    "    obj = obj_start\n",
    "\n",
    "    trajectory = []\n",
    "\n",
    "    # Generate a single trajectory\n",
    "    for j in xrange(10):\n",
    "        a = np.random.randint(0, num_actions)\n",
    "        while (obj == 0 and a == 0) or (obj == num_positions - 1 and a == 2):\n",
    "            a = np.random.randint(0, num_actions)\n",
    "        obj = obj - 1 if a == 0 else obj if a == 1 else obj + 1\n",
    "        trajectory.append(obj)\n",
    "\n",
    "    for f in weights:\n",
    "        W = weights[f]\n",
    "        prev_box = obj_start\n",
    "        j = 0\n",
    "        # Feedforward for all steps in the trajectory\n",
    "        while j < len(trajectory):\n",
    "            current_state = np.zeros(num_positions + 1)\n",
    "            current_state[-1] = prev_box\n",
    "            current_state[trajectory[j]] = 1\n",
    "\n",
    "            # Evaluate the Q-network to get the Q-values, and on the basis of that, select an action, and\n",
    "            # consequently calculate the current box coordinates from the action on the previous box coordinates\n",
    "            current_qvalues = feedforward(current_state, W)\n",
    "            current_action = epsilon_greedy(current_qvalues)\n",
    "            current_box = prev_box - 1 if current_action == 0 else prev_box if current_action == 1 else prev_box + 1\n",
    "\n",
    "            # If the current box coordinates are invalid (out of bounds), we set a penalty for them and backpropagate.\n",
    "            # Otherwise, we add the new state and action to their respective arrays.\n",
    "            if current_box < 0 or current_box >= num_positions:\n",
    "                break\n",
    "            else:\n",
    "                prev_box = current_box\n",
    "                j += 1\n",
    "\n",
    "        last_box = current_box\n",
    "\n",
    "        if last_box == trajectory[-1]:    \n",
    "            correct[f] += 1\n",
    "            \n",
    "        \n",
    "    total += 1\n",
    "    \n",
    "for f in weights:\n",
    "    print f + ' : ' + str(correct[f] * 1.0 / total)\n",
    "\n",
    "                "
   ]
  },
  {
   "cell_type": "code",
   "execution_count": null,
   "metadata": {},
   "outputs": [],
   "source": []
  }
 ],
 "metadata": {
  "kernelspec": {
   "display_name": "Python 2",
   "language": "python",
   "name": "python2"
  },
  "language_info": {
   "codemirror_mode": {
    "name": "ipython",
    "version": 2
   },
   "file_extension": ".py",
   "mimetype": "text/x-python",
   "name": "python",
   "nbconvert_exporter": "python",
   "pygments_lexer": "ipython2",
   "version": "2.7.14"
  }
 },
 "nbformat": 4,
 "nbformat_minor": 2
}
