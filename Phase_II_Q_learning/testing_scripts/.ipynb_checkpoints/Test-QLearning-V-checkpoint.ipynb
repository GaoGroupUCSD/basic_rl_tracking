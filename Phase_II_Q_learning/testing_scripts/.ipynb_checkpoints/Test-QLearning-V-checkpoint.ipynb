{
 "cells": [
  {
   "cell_type": "code",
   "execution_count": 1,
   "metadata": {},
   "outputs": [],
   "source": [
    "import numpy as np\n",
    "import tensorflow as tf"
   ]
  },
  {
   "cell_type": "code",
   "execution_count": 2,
   "metadata": {},
   "outputs": [],
   "source": [
    "num_positions = 10\n",
    "input_size = 20 # [board configuration:10, one-hot previous bbox vector:10]\n",
    "hidden_layer_1_size = 10\n",
    "hidden_layer_2_size = 10\n",
    "output_size = 3 # number of actions = 3 : Left, None, Right\n",
    "num_actions = 3\n",
    "gamma = 0.9\n",
    "alpha = 0.01\n",
    "epsilon = 0.2"
   ]
  },
  {
   "cell_type": "markdown",
   "metadata": {},
   "source": [
    "### Making the neural network"
   ]
  },
  {
   "cell_type": "code",
   "execution_count": 3,
   "metadata": {},
   "outputs": [],
   "source": [
    "X = tf.placeholder('float', [None, input_size])\n",
    "\n",
    "weights = {\n",
    "    'h1': tf.Variable(tf.random_normal([input_size, hidden_layer_1_size])),\n",
    "    'h2': tf.Variable(tf.random_normal([hidden_layer_1_size, hidden_layer_2_size])),\n",
    "    'out': tf.Variable(tf.random_normal([hidden_layer_2_size, output_size]))\n",
    "}\n",
    "biases = {\n",
    "    'b1': tf.Variable(tf.random_normal([hidden_layer_1_size])),\n",
    "    'b2': tf.Variable(tf.random_normal([hidden_layer_2_size])),\n",
    "    'out': tf.Variable(tf.random_normal([output_size]))\n",
    "}\n"
   ]
  },
  {
   "cell_type": "code",
   "execution_count": 4,
   "metadata": {},
   "outputs": [],
   "source": [
    "def network(x):\n",
    "    layer_1 = tf.nn.sigmoid(tf.add(tf.matmul(x, weights['h1']), biases['b1']))\n",
    "    layer_2 = tf.nn.sigmoid(tf.add(tf.matmul(layer_1, weights['h2']), biases['b2']))\n",
    "    out_layer = tf.nn.softmax(tf.matmul(layer_2, weights['out']) + biases['out'])\n",
    "    return out_layer"
   ]
  },
  {
   "cell_type": "code",
   "execution_count": 5,
   "metadata": {},
   "outputs": [],
   "source": [
    "output = network(X)\n",
    "actual_return = tf.Variable([[0.0, 0.0, 0.0]], name='actual_return', dtype=tf.float32, validate_shape=False)\n",
    "expected_return = tf.placeholder('float', [None, 3], name='expected_return')\n",
    "loss = tf.reduce_mean(tf.square(tf.subtract(actual_return, expected_return)))\n",
    "optimizer = tf.train.GradientDescentOptimizer(learning_rate=alpha)\n",
    "train_op = optimizer.minimize(loss)\n",
    "\n",
    "saver = tf.train.Saver()"
   ]
  },
  {
   "cell_type": "markdown",
   "metadata": {},
   "source": [
    "### Generate 10000 trajectories to test"
   ]
  },
  {
   "cell_type": "code",
   "execution_count": 6,
   "metadata": {},
   "outputs": [],
   "source": [
    "test_trajectories = []\n",
    "\n",
    "for i in xrange(10000):\n",
    "    obj_start = np.random.randint(0, num_positions)\n",
    "    obj_start = [0 if x != obj_start else 1 for x in xrange(num_positions)]\n",
    "    obj = obj_start\n",
    "    trajectory = [obj]\n",
    "    for j in xrange(10):\n",
    "        a = np.random.randint(0, num_actions)\n",
    "        obj_coord = obj.index(1)\n",
    "        while (obj_coord == 0 and a == 0) or (obj_coord == num_positions - 1 and a == 2):\n",
    "            a = np.random.randint(0, num_actions)\n",
    "        obj_coord = obj_coord - 1 if a == 0 else obj_coord if a == 1 else obj_coord + 1\n",
    "        obj = [0 if x != obj_coord else 1 for x in xrange(num_positions)]\n",
    "        trajectory.append(obj)\n",
    "    test_trajectories.append(trajectory)"
   ]
  },
  {
   "cell_type": "markdown",
   "metadata": {},
   "source": [
    "### Testing the network"
   ]
  },
  {
   "cell_type": "code",
   "execution_count": null,
   "metadata": {
    "scrolled": false
   },
   "outputs": [],
   "source": [
    "total = 10000\n",
    "correct = 0.0\n",
    "\n",
    "with tf.Session() as sess:\n",
    "    saver.restore(sess, '../QL_V_ckpts/softmax/qlV.ckpt-1000')\n",
    "    for i in xrange(len(test_trajectories)):\n",
    "        j = 1\n",
    "        prev_box = test_trajectories[i][0]\n",
    "        # Evaluate the Q-network to get the Q-values, and on the basis of that, select an action, and\n",
    "        # consequently calculate the current box coordinates from the action on the previous box coordinates\n",
    "        while j < len(test_trajectories[i]):\n",
    "            current_state = test_trajectories[i][j] + prev_box\n",
    "            current_qvalues = sess.run([output], feed_dict={X:[current_state]})[0][0]\n",
    "            print current_qvalues\n",
    "            current_action = np.argmax(current_qvalues)\n",
    "            prev_box_coord = prev_box.index(1)\n",
    "            current_box_coord = prev_box_coord - 1 if current_action == 0 else prev_box_coord if current_action == 1 else prev_box_coord + 1\n",
    "            current_box = [0 if x != current_box_coord else 1 for x in xrange(num_positions)]\n",
    "\n",
    "            print test_trajectories[i][j].index(1)\n",
    "            print current_box_coord\n",
    "            print\n",
    "            \n",
    "            # If the current box coordinates are invalid (out of bounds), we set a penalty for them and backpropagate.\n",
    "            # Otherwise, we add the new state and action to their respective arrays.\n",
    "            if current_box_coord < 0 or current_box_coord >= num_positions:\n",
    "                break\n",
    "            else:\n",
    "                prev_box = current_box\n",
    "                j += 1\n",
    "        \n",
    "        if current_box_coord == test_trajectories[i][-1].index(1):\n",
    "            correct += 1\n",
    "            \n",
    "print correct * 1.0 / total"
   ]
  },
  {
   "cell_type": "code",
   "execution_count": null,
   "metadata": {},
   "outputs": [],
   "source": []
  },
  {
   "cell_type": "code",
   "execution_count": null,
   "metadata": {},
   "outputs": [],
   "source": []
  }
 ],
 "metadata": {
  "kernelspec": {
   "display_name": "Python 2",
   "language": "python",
   "name": "python2"
  },
  "language_info": {
   "codemirror_mode": {
    "name": "ipython",
    "version": 2
   },
   "file_extension": ".py",
   "mimetype": "text/x-python",
   "name": "python",
   "nbconvert_exporter": "python",
   "pygments_lexer": "ipython2",
   "version": "2.7.14"
  }
 },
 "nbformat": 4,
 "nbformat_minor": 2
}
